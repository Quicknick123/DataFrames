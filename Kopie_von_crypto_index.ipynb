{
  "cells": [
    {
      "cell_type": "markdown",
      "metadata": {
        "id": "view-in-github",
        "colab_type": "text"
      },
      "source": [
        "<a href=\"https://colab.research.google.com/github/Quicknick123/DataFrames/blob/main/Kopie_von_crypto_index.ipynb\" target=\"_parent\"><img src=\"https://colab.research.google.com/assets/colab-badge.svg\" alt=\"Open In Colab\"/></a>"
      ]
    },
    {
      "cell_type": "markdown",
      "metadata": {
        "id": "D0S1YAdaVd_z"
      },
      "source": [
        "# Crypto asset index creation tutorial\n",
        "\n",
        "## Synopsis:\n",
        "In this notebook, an example index is created. Akin to the German DAX, a total return index is chosen. \n",
        "Functions for the basic ingredients to create an index are first defined and then applied in a loop to compute the daily value of the index.\n",
        "These ingredients are \n",
        "\n",
        "1. an asset selection\n",
        "2. a metric \n",
        "3. a weighting logic\n",
        "\n",
        "The example given below uses the total market capitalization for the selection (1.) and the returns of the selected assets as a metric (2.). For the weighting logic (3.), three examples are given (the relative fraction of the asset's market capitalization, the rank of the asset's market capitalization, and the tangent hyperbolic of the relative fraction of the asset's market capitalization). \n",
        "\n",
        "## Suggestions for creating a custom index\n",
        "\n",
        "- perform asset selection differently (by sector, by market segment, or even by taste )\n",
        "- change the selected metric (e.g.: price or volatility instead of returns)\n",
        "- define a different set of weighting logics\n",
        "\n",
        "## Suggestions for additional visualizations\n",
        "- visualize constituents contributions\n",
        "- visualize relative performance of assets compared to created indices\n",
        "\n",
        "## Questions to discuss\n",
        "- what are reasonable ways to construct indices for the DeFi space?\n",
        "    - how to select the assets? \n",
        "    - what (performance) metrics are best?\n",
        "- what is the benefit of a return / price / volatility / other indices?\n",
        "    - what quantitative measures can be applied to assess these benefits?\n",
        "\n",
        "The data provided was acquired from Santiment and is for the purpose of this workshop and your private use only."
      ]
    },
    {
      "cell_type": "markdown",
      "metadata": {
        "id": "eCU0TzugVd_1"
      },
      "source": [
        "### import required modules "
      ]
    },
    {
      "cell_type": "code",
      "execution_count": 15,
      "metadata": {
        "id": "PTkOLZ6RVd_1"
      },
      "outputs": [],
      "source": [
        "import pandas as pd\n",
        "import matplotlib.pyplot as plt\n",
        "import numpy as np"
      ]
    },
    {
      "cell_type": "markdown",
      "metadata": {
        "id": "pb_JTwqlVd_3"
      },
      "source": [
        "### import the data and fill/delete all undefined/spurious values"
      ]
    },
    {
      "cell_type": "code",
      "source": [
        "cryptoDataURL = 'https://www.dropbox.com/s/uz5dnkwvca6hl9s/indexPricesAndCapsFrom2019.csv?dl=0'\n"
      ],
      "metadata": {
        "id": "t37KJjdRWu2v"
      },
      "execution_count": 16,
      "outputs": []
    },
    {
      "cell_type": "code",
      "source": [
        "!wget -O indexPricesAndCapsFrom2019.csv https://www.dropbox.com/s/uz5dnkwvca6hl9s/indexPricesAndCapsFrom2019.csv?dl=0"
      ],
      "metadata": {
        "colab": {
          "base_uri": "https://localhost:8080/"
        },
        "id": "B06U4ubUZMkj",
        "outputId": "1ff8eaa0-4d1a-4984-8f7d-80433165210a"
      },
      "execution_count": 17,
      "outputs": [
        {
          "output_type": "stream",
          "name": "stdout",
          "text": [
            "--2022-07-25 16:30:33--  https://www.dropbox.com/s/uz5dnkwvca6hl9s/indexPricesAndCapsFrom2019.csv?dl=0\n",
            "Resolving www.dropbox.com (www.dropbox.com)... 162.125.5.18, 2620:100:601d:18::a27d:512\n",
            "Connecting to www.dropbox.com (www.dropbox.com)|162.125.5.18|:443... connected.\n",
            "HTTP request sent, awaiting response... 301 Moved Permanently\n",
            "Location: /s/raw/uz5dnkwvca6hl9s/indexPricesAndCapsFrom2019.csv [following]\n",
            "--2022-07-25 16:30:33--  https://www.dropbox.com/s/raw/uz5dnkwvca6hl9s/indexPricesAndCapsFrom2019.csv\n",
            "Reusing existing connection to www.dropbox.com:443.\n",
            "HTTP request sent, awaiting response... 302 Found\n",
            "Location: https://uc04e853d68763beb94916c90088.dl.dropboxusercontent.com/cd/0/inline/BpysqJVmnr8kem_n4OU7EMHXsD8_56fRV2QfgOLx9iOgFxL2QX4HI201n94pO0u4pyEuKoWBsH7utkWLhF7iV2_PjTLWC5bDNBBACz9gSTvAgNZe1EhCVJ6sbWOgaA8vN8Pwlzz23pvOlc7VP-R1BfBOWrymJHChYxMmatUWSPUK-Q/file# [following]\n",
            "--2022-07-25 16:30:33--  https://uc04e853d68763beb94916c90088.dl.dropboxusercontent.com/cd/0/inline/BpysqJVmnr8kem_n4OU7EMHXsD8_56fRV2QfgOLx9iOgFxL2QX4HI201n94pO0u4pyEuKoWBsH7utkWLhF7iV2_PjTLWC5bDNBBACz9gSTvAgNZe1EhCVJ6sbWOgaA8vN8Pwlzz23pvOlc7VP-R1BfBOWrymJHChYxMmatUWSPUK-Q/file\n",
            "Resolving uc04e853d68763beb94916c90088.dl.dropboxusercontent.com (uc04e853d68763beb94916c90088.dl.dropboxusercontent.com)... 162.125.5.15, 2620:100:601d:15::a27d:50f\n",
            "Connecting to uc04e853d68763beb94916c90088.dl.dropboxusercontent.com (uc04e853d68763beb94916c90088.dl.dropboxusercontent.com)|162.125.5.15|:443... connected.\n",
            "HTTP request sent, awaiting response... 200 OK\n",
            "Length: 5034352 (4.8M) [text/plain]\n",
            "Saving to: ‘indexPricesAndCapsFrom2019.csv’\n",
            "\n",
            "indexPricesAndCapsF 100%[===================>]   4.80M  28.7MB/s    in 0.2s    \n",
            "\n",
            "2022-07-25 16:30:34 (28.7 MB/s) - ‘indexPricesAndCapsFrom2019.csv’ saved [5034352/5034352]\n",
            "\n"
          ]
        }
      ]
    },
    {
      "cell_type": "code",
      "source": [
        "caps_and_prices_df = pd.read_csv('indexPricesAndCapsFrom2019.csv')\n"
      ],
      "metadata": {
        "id": "nEzezVXbXuuh"
      },
      "execution_count": 146,
      "outputs": []
    },
    {
      "cell_type": "code",
      "source": [
        "caps_and_prices_df.columns"
      ],
      "metadata": {
        "colab": {
          "base_uri": "https://localhost:8080/"
        },
        "id": "SAODOSWaXwvA",
        "outputId": "0cd5794a-6795-4238-ad54-3df10d208cdd"
      },
      "execution_count": 19,
      "outputs": [
        {
          "output_type": "execute_result",
          "data": {
            "text/plain": [
              "Index(['datetime', 'inmax_price', 'dex_price', 'b2bx_price', 'kun_price',\n",
              "       'bibox-token_price', 'dew_price', 'internationalcryptox_price',\n",
              "       'themis_price', 'mothership_price',\n",
              "       ...\n",
              "       'labh-coin_cap', 'gincoin_cap', 'opcoinx_cap', 'blocknode_cap',\n",
              "       'bitblocks_cap', 'lightpaycoin_cap', 'electra_cap', 'bitcoin-token_cap',\n",
              "       'newyorkcoin_cap', 'ergo_cap'],\n",
              "      dtype='object', length=364)"
            ]
          },
          "metadata": {},
          "execution_count": 19
        }
      ]
    },
    {
      "cell_type": "code",
      "source": [
        "max(pd.to_datetime(caps_and_prices_df.datetime)) - min(pd.to_datetime(caps_and_prices_df.datetime))"
      ],
      "metadata": {
        "id": "qGTtOzs3H69T",
        "outputId": "4a1fb987-3a84-42b1-a77f-05ae720731d9",
        "colab": {
          "base_uri": "https://localhost:8080/"
        }
      },
      "execution_count": 21,
      "outputs": [
        {
          "output_type": "execute_result",
          "data": {
            "text/plain": [
              "Timedelta('1301 days 00:00:00')"
            ]
          },
          "metadata": {},
          "execution_count": 21
        }
      ]
    },
    {
      "cell_type": "code",
      "source": [
        "caps_and_prices_df.head()"
      ],
      "metadata": {
        "id": "JnA-8tcDHk6y",
        "outputId": "e8855c21-4f2f-4201-c606-4a86919eee06",
        "colab": {
          "base_uri": "https://localhost:8080/",
          "height": 404
        }
      },
      "execution_count": 22,
      "outputs": [
        {
          "output_type": "execute_result",
          "data": {
            "text/plain": [
              "                    datetime  inmax_price  dex_price  b2bx_price  kun_price  \\\n",
              "0  2019-01-01 00:00:00+00:00          NaN   0.308100    0.244014   6.127182   \n",
              "1  2019-01-02 00:00:00+00:00          NaN   0.309181    0.243702   5.958004   \n",
              "2  2019-01-03 00:00:00+00:00          NaN   0.298392    0.256375   6.036914   \n",
              "3  2019-01-04 00:00:00+00:00          NaN   0.298530    0.256308   5.998166   \n",
              "4  2019-01-05 00:00:00+00:00          NaN   0.155830    0.259974   6.175592   \n",
              "\n",
              "   bibox-token_price  dew_price  internationalcryptox_price  themis_price  \\\n",
              "0           0.144686   0.075974                    0.001859      0.001781   \n",
              "1           0.149687   0.067813                    0.002326      0.001855   \n",
              "2           0.147745   0.052490                    0.002307      0.001698   \n",
              "3           0.145511   0.055931                    0.001733      0.001657   \n",
              "4           0.147712   0.080857                    0.001453      0.001568   \n",
              "\n",
              "   mothership_price  ...  labh-coin_cap  gincoin_cap  opcoinx_cap  \\\n",
              "0          0.034137  ...            NaN    5804029.0      62830.0   \n",
              "1          0.034154  ...            NaN    5898573.0      64191.0   \n",
              "2          0.035097  ...            NaN    5532470.0      65512.0   \n",
              "3          0.039844  ...            NaN    5438644.0      62900.0   \n",
              "4          0.042679  ...            NaN    5377949.0      62559.0   \n",
              "\n",
              "   blocknode_cap  bitblocks_cap  lightpaycoin_cap  electra_cap  \\\n",
              "0       148950.0        54542.0         1757365.0    7019092.0   \n",
              "1       145397.0        61068.0         1807096.0    7857406.0   \n",
              "2       154490.0        63168.0         1796951.0    8468945.0   \n",
              "3       141200.0        54498.0         1778597.0    7587031.0   \n",
              "4       146397.0        58380.0         1800910.0    7916481.0   \n",
              "\n",
              "   bitcoin-token_cap  newyorkcoin_cap  ergo_cap  \n",
              "0           246158.0        1535215.0  754228.0  \n",
              "1           259670.0        1648943.0  865997.0  \n",
              "2           275621.0        1552008.0  762340.0  \n",
              "3           249792.0        1734412.0  846089.0  \n",
              "4           275273.0        2010402.0  825260.0  \n",
              "\n",
              "[5 rows x 364 columns]"
            ],
            "text/html": [
              "\n",
              "  <div id=\"df-909d83f4-4cab-4403-8554-591532ea0105\">\n",
              "    <div class=\"colab-df-container\">\n",
              "      <div>\n",
              "<style scoped>\n",
              "    .dataframe tbody tr th:only-of-type {\n",
              "        vertical-align: middle;\n",
              "    }\n",
              "\n",
              "    .dataframe tbody tr th {\n",
              "        vertical-align: top;\n",
              "    }\n",
              "\n",
              "    .dataframe thead th {\n",
              "        text-align: right;\n",
              "    }\n",
              "</style>\n",
              "<table border=\"1\" class=\"dataframe\">\n",
              "  <thead>\n",
              "    <tr style=\"text-align: right;\">\n",
              "      <th></th>\n",
              "      <th>datetime</th>\n",
              "      <th>inmax_price</th>\n",
              "      <th>dex_price</th>\n",
              "      <th>b2bx_price</th>\n",
              "      <th>kun_price</th>\n",
              "      <th>bibox-token_price</th>\n",
              "      <th>dew_price</th>\n",
              "      <th>internationalcryptox_price</th>\n",
              "      <th>themis_price</th>\n",
              "      <th>mothership_price</th>\n",
              "      <th>...</th>\n",
              "      <th>labh-coin_cap</th>\n",
              "      <th>gincoin_cap</th>\n",
              "      <th>opcoinx_cap</th>\n",
              "      <th>blocknode_cap</th>\n",
              "      <th>bitblocks_cap</th>\n",
              "      <th>lightpaycoin_cap</th>\n",
              "      <th>electra_cap</th>\n",
              "      <th>bitcoin-token_cap</th>\n",
              "      <th>newyorkcoin_cap</th>\n",
              "      <th>ergo_cap</th>\n",
              "    </tr>\n",
              "  </thead>\n",
              "  <tbody>\n",
              "    <tr>\n",
              "      <th>0</th>\n",
              "      <td>2019-01-01 00:00:00+00:00</td>\n",
              "      <td>NaN</td>\n",
              "      <td>0.308100</td>\n",
              "      <td>0.244014</td>\n",
              "      <td>6.127182</td>\n",
              "      <td>0.144686</td>\n",
              "      <td>0.075974</td>\n",
              "      <td>0.001859</td>\n",
              "      <td>0.001781</td>\n",
              "      <td>0.034137</td>\n",
              "      <td>...</td>\n",
              "      <td>NaN</td>\n",
              "      <td>5804029.0</td>\n",
              "      <td>62830.0</td>\n",
              "      <td>148950.0</td>\n",
              "      <td>54542.0</td>\n",
              "      <td>1757365.0</td>\n",
              "      <td>7019092.0</td>\n",
              "      <td>246158.0</td>\n",
              "      <td>1535215.0</td>\n",
              "      <td>754228.0</td>\n",
              "    </tr>\n",
              "    <tr>\n",
              "      <th>1</th>\n",
              "      <td>2019-01-02 00:00:00+00:00</td>\n",
              "      <td>NaN</td>\n",
              "      <td>0.309181</td>\n",
              "      <td>0.243702</td>\n",
              "      <td>5.958004</td>\n",
              "      <td>0.149687</td>\n",
              "      <td>0.067813</td>\n",
              "      <td>0.002326</td>\n",
              "      <td>0.001855</td>\n",
              "      <td>0.034154</td>\n",
              "      <td>...</td>\n",
              "      <td>NaN</td>\n",
              "      <td>5898573.0</td>\n",
              "      <td>64191.0</td>\n",
              "      <td>145397.0</td>\n",
              "      <td>61068.0</td>\n",
              "      <td>1807096.0</td>\n",
              "      <td>7857406.0</td>\n",
              "      <td>259670.0</td>\n",
              "      <td>1648943.0</td>\n",
              "      <td>865997.0</td>\n",
              "    </tr>\n",
              "    <tr>\n",
              "      <th>2</th>\n",
              "      <td>2019-01-03 00:00:00+00:00</td>\n",
              "      <td>NaN</td>\n",
              "      <td>0.298392</td>\n",
              "      <td>0.256375</td>\n",
              "      <td>6.036914</td>\n",
              "      <td>0.147745</td>\n",
              "      <td>0.052490</td>\n",
              "      <td>0.002307</td>\n",
              "      <td>0.001698</td>\n",
              "      <td>0.035097</td>\n",
              "      <td>...</td>\n",
              "      <td>NaN</td>\n",
              "      <td>5532470.0</td>\n",
              "      <td>65512.0</td>\n",
              "      <td>154490.0</td>\n",
              "      <td>63168.0</td>\n",
              "      <td>1796951.0</td>\n",
              "      <td>8468945.0</td>\n",
              "      <td>275621.0</td>\n",
              "      <td>1552008.0</td>\n",
              "      <td>762340.0</td>\n",
              "    </tr>\n",
              "    <tr>\n",
              "      <th>3</th>\n",
              "      <td>2019-01-04 00:00:00+00:00</td>\n",
              "      <td>NaN</td>\n",
              "      <td>0.298530</td>\n",
              "      <td>0.256308</td>\n",
              "      <td>5.998166</td>\n",
              "      <td>0.145511</td>\n",
              "      <td>0.055931</td>\n",
              "      <td>0.001733</td>\n",
              "      <td>0.001657</td>\n",
              "      <td>0.039844</td>\n",
              "      <td>...</td>\n",
              "      <td>NaN</td>\n",
              "      <td>5438644.0</td>\n",
              "      <td>62900.0</td>\n",
              "      <td>141200.0</td>\n",
              "      <td>54498.0</td>\n",
              "      <td>1778597.0</td>\n",
              "      <td>7587031.0</td>\n",
              "      <td>249792.0</td>\n",
              "      <td>1734412.0</td>\n",
              "      <td>846089.0</td>\n",
              "    </tr>\n",
              "    <tr>\n",
              "      <th>4</th>\n",
              "      <td>2019-01-05 00:00:00+00:00</td>\n",
              "      <td>NaN</td>\n",
              "      <td>0.155830</td>\n",
              "      <td>0.259974</td>\n",
              "      <td>6.175592</td>\n",
              "      <td>0.147712</td>\n",
              "      <td>0.080857</td>\n",
              "      <td>0.001453</td>\n",
              "      <td>0.001568</td>\n",
              "      <td>0.042679</td>\n",
              "      <td>...</td>\n",
              "      <td>NaN</td>\n",
              "      <td>5377949.0</td>\n",
              "      <td>62559.0</td>\n",
              "      <td>146397.0</td>\n",
              "      <td>58380.0</td>\n",
              "      <td>1800910.0</td>\n",
              "      <td>7916481.0</td>\n",
              "      <td>275273.0</td>\n",
              "      <td>2010402.0</td>\n",
              "      <td>825260.0</td>\n",
              "    </tr>\n",
              "  </tbody>\n",
              "</table>\n",
              "<p>5 rows × 364 columns</p>\n",
              "</div>\n",
              "      <button class=\"colab-df-convert\" onclick=\"convertToInteractive('df-909d83f4-4cab-4403-8554-591532ea0105')\"\n",
              "              title=\"Convert this dataframe to an interactive table.\"\n",
              "              style=\"display:none;\">\n",
              "        \n",
              "  <svg xmlns=\"http://www.w3.org/2000/svg\" height=\"24px\"viewBox=\"0 0 24 24\"\n",
              "       width=\"24px\">\n",
              "    <path d=\"M0 0h24v24H0V0z\" fill=\"none\"/>\n",
              "    <path d=\"M18.56 5.44l.94 2.06.94-2.06 2.06-.94-2.06-.94-.94-2.06-.94 2.06-2.06.94zm-11 1L8.5 8.5l.94-2.06 2.06-.94-2.06-.94L8.5 2.5l-.94 2.06-2.06.94zm10 10l.94 2.06.94-2.06 2.06-.94-2.06-.94-.94-2.06-.94 2.06-2.06.94z\"/><path d=\"M17.41 7.96l-1.37-1.37c-.4-.4-.92-.59-1.43-.59-.52 0-1.04.2-1.43.59L10.3 9.45l-7.72 7.72c-.78.78-.78 2.05 0 2.83L4 21.41c.39.39.9.59 1.41.59.51 0 1.02-.2 1.41-.59l7.78-7.78 2.81-2.81c.8-.78.8-2.07 0-2.86zM5.41 20L4 18.59l7.72-7.72 1.47 1.35L5.41 20z\"/>\n",
              "  </svg>\n",
              "      </button>\n",
              "      \n",
              "  <style>\n",
              "    .colab-df-container {\n",
              "      display:flex;\n",
              "      flex-wrap:wrap;\n",
              "      gap: 12px;\n",
              "    }\n",
              "\n",
              "    .colab-df-convert {\n",
              "      background-color: #E8F0FE;\n",
              "      border: none;\n",
              "      border-radius: 50%;\n",
              "      cursor: pointer;\n",
              "      display: none;\n",
              "      fill: #1967D2;\n",
              "      height: 32px;\n",
              "      padding: 0 0 0 0;\n",
              "      width: 32px;\n",
              "    }\n",
              "\n",
              "    .colab-df-convert:hover {\n",
              "      background-color: #E2EBFA;\n",
              "      box-shadow: 0px 1px 2px rgba(60, 64, 67, 0.3), 0px 1px 3px 1px rgba(60, 64, 67, 0.15);\n",
              "      fill: #174EA6;\n",
              "    }\n",
              "\n",
              "    [theme=dark] .colab-df-convert {\n",
              "      background-color: #3B4455;\n",
              "      fill: #D2E3FC;\n",
              "    }\n",
              "\n",
              "    [theme=dark] .colab-df-convert:hover {\n",
              "      background-color: #434B5C;\n",
              "      box-shadow: 0px 1px 3px 1px rgba(0, 0, 0, 0.15);\n",
              "      filter: drop-shadow(0px 1px 2px rgba(0, 0, 0, 0.3));\n",
              "      fill: #FFFFFF;\n",
              "    }\n",
              "  </style>\n",
              "\n",
              "      <script>\n",
              "        const buttonEl =\n",
              "          document.querySelector('#df-909d83f4-4cab-4403-8554-591532ea0105 button.colab-df-convert');\n",
              "        buttonEl.style.display =\n",
              "          google.colab.kernel.accessAllowed ? 'block' : 'none';\n",
              "\n",
              "        async function convertToInteractive(key) {\n",
              "          const element = document.querySelector('#df-909d83f4-4cab-4403-8554-591532ea0105');\n",
              "          const dataTable =\n",
              "            await google.colab.kernel.invokeFunction('convertToInteractive',\n",
              "                                                     [key], {});\n",
              "          if (!dataTable) return;\n",
              "\n",
              "          const docLinkHtml = 'Like what you see? Visit the ' +\n",
              "            '<a target=\"_blank\" href=https://colab.research.google.com/notebooks/data_table.ipynb>data table notebook</a>'\n",
              "            + ' to learn more about interactive tables.';\n",
              "          element.innerHTML = '';\n",
              "          dataTable['output_type'] = 'display_data';\n",
              "          await google.colab.output.renderOutput(dataTable, element);\n",
              "          const docLink = document.createElement('div');\n",
              "          docLink.innerHTML = docLinkHtml;\n",
              "          element.appendChild(docLink);\n",
              "        }\n",
              "      </script>\n",
              "    </div>\n",
              "  </div>\n",
              "  "
            ]
          },
          "metadata": {},
          "execution_count": 22
        }
      ]
    },
    {
      "cell_type": "code",
      "execution_count": 147,
      "metadata": {
        "id": "Zt19xat6Vd_3"
      },
      "outputs": [],
      "source": [
        "caps_and_prices_df=caps_and_prices_df.ffill().bfill()\n",
        "\n",
        "listToDrop=['business-credit-alliance-chain_price','business-credit-alliance-chain_cap','centercoin_price','chex_price', 'mex_price', 'otcbtc-token_price', 'capdaxtoken_price', 'key_price', 'valuechain_price', 'digifinextoken_price', 'valuto_price', 'dascoin_price', 'futurocoin_price'] \n",
        "\n",
        "caps_and_prices_df.drop(columns=listToDrop,inplace=True, axis = 1)"
      ]
    },
    {
      "cell_type": "code",
      "source": [
        "tokens = list(set(map(lambda x: x.split(\"_\")[0], list(caps_and_prices_df.columns))))\n"
      ],
      "metadata": {
        "id": "TyDM6NDyPMWv"
      },
      "execution_count": 148,
      "outputs": []
    },
    {
      "cell_type": "code",
      "source": [
        "tokens"
      ],
      "metadata": {
        "colab": {
          "base_uri": "https://localhost:8080/"
        },
        "id": "UWdw0UFnUNlS",
        "outputId": "b1ebb0b1-bf41-46b4-aa21-359fe5cfe04e"
      },
      "execution_count": 142,
      "outputs": [
        {
          "output_type": "execute_result",
          "data": {
            "text/plain": [
              "['dimecoin',\n",
              " 'hashcoin',\n",
              " 'clearpoll',\n",
              " 'shard',\n",
              " 'xdna',\n",
              " 'absolute',\n",
              " 'soarcoin',\n",
              " 'flo',\n",
              " 'opcoinx',\n",
              " 'electra',\n",
              " 'abbc-coin',\n",
              " 'metronome',\n",
              " 'lightpaycoin',\n",
              " 'bitcoin-cash',\n",
              " 'digitalnote',\n",
              " 'aurora',\n",
              " 'kalkulus',\n",
              " 'linda',\n",
              " 'stellar',\n",
              " 'blocktrade-token',\n",
              " 'ubiq',\n",
              " 'litecoin-cash',\n",
              " 'emercoin',\n",
              " 'benz',\n",
              " 'agrello-delta',\n",
              " 'block-array',\n",
              " 'bitcoin',\n",
              " 'blocknode',\n",
              " 'steem',\n",
              " 'labh-coin',\n",
              " 'bitcoin-atom',\n",
              " 'newyorkcoin',\n",
              " 'ether-zero',\n",
              " 'dex',\n",
              " 'ormeus-coin',\n",
              " 'b2bx',\n",
              " 'w3coin',\n",
              " 'zap',\n",
              " 'pitiscoin',\n",
              " 'hurify',\n",
              " 'binance-coin',\n",
              " 'ilcoin',\n",
              " 'dogecoin',\n",
              " 'covesting',\n",
              " 'global-currency-reserve',\n",
              " 'telcoin',\n",
              " 'suqa',\n",
              " 'feathercoin',\n",
              " 'parallelcoin',\n",
              " 'bitcoin-one',\n",
              " 'bibox-token',\n",
              " 'apr-coin',\n",
              " 'tomochain',\n",
              " 'cardano',\n",
              " 'ethereum',\n",
              " 'wixlar',\n",
              " 'ruff',\n",
              " 'ethereum-classic',\n",
              " 'mir-coin',\n",
              " 'boolberry',\n",
              " 'faircoin',\n",
              " 'peercoin',\n",
              " 'adbank',\n",
              " 'shekel',\n",
              " '0xbtc',\n",
              " 'unobtanium',\n",
              " 'bitcoin-sv',\n",
              " 'fantom',\n",
              " 'bitblocks',\n",
              " 'stk',\n",
              " 'davinci-coin',\n",
              " 'bitcoinote',\n",
              " 'niobium-coin',\n",
              " 'raiden-network-token',\n",
              " 'dignity',\n",
              " 'ndex',\n",
              " 'tezos',\n",
              " 'inmax',\n",
              " 'etherparty',\n",
              " 'gold-poker',\n",
              " 'nasdacoin',\n",
              " 'dew',\n",
              " 'smart-bitcoin',\n",
              " 'ulord',\n",
              " 'leocoin',\n",
              " 'sharpe-platform-token',\n",
              " 'qtum',\n",
              " 'mothership',\n",
              " 'quantstamp',\n",
              " 'decred',\n",
              " 'domraider',\n",
              " 'litecoin',\n",
              " 'solarcoin',\n",
              " 'goldmint',\n",
              " 'chronologic',\n",
              " 'pigeoncoin',\n",
              " 'ryo-currency',\n",
              " 'crpt',\n",
              " 'electroneum',\n",
              " 'lisk',\n",
              " 'helium',\n",
              " 'jiyo',\n",
              " 'croat',\n",
              " 'paragon',\n",
              " 'aidcoin',\n",
              " 'stealth',\n",
              " 'minexcoin',\n",
              " 'internationalcryptox',\n",
              " 'no-bs-crypto',\n",
              " 'primecoin',\n",
              " 'mooncoin',\n",
              " 'gincoin',\n",
              " 'bitsum',\n",
              " 'nem',\n",
              " 'themis',\n",
              " 'pura',\n",
              " 'snetwork',\n",
              " 'vertcoin',\n",
              " 'bitcoin-gold',\n",
              " 'ripple',\n",
              " 'zilla',\n",
              " 'bitcoin-interest',\n",
              " 'local-coin-swap',\n",
              " 'graviocoin',\n",
              " 'e-dinar-coin',\n",
              " 'kun',\n",
              " 'upfiring',\n",
              " 'groestlcoin',\n",
              " 'life',\n",
              " 'devery',\n",
              " 'stellite',\n",
              " 'nano',\n",
              " 'bitcoin-token',\n",
              " 'gulden',\n",
              " 'tolar',\n",
              " 'arionum',\n",
              " 'the-champcoin',\n",
              " 'the-midas-touch-gold',\n",
              " 'vipstar-coin',\n",
              " 'hypercash',\n",
              " 'inflationcoin',\n",
              " 'jesus-coin',\n",
              " 'bitcore',\n",
              " 'snowgem',\n",
              " 'zb',\n",
              " 'birake',\n",
              " 'atc-coin',\n",
              " 'bitmart-token',\n",
              " 'neo',\n",
              " 'white-standard',\n",
              " 'bhp-coin',\n",
              " 'lightning-bitcoin',\n",
              " 'modultrade',\n",
              " 'datetime',\n",
              " 'kucoin-shares',\n",
              " 'hellogold',\n",
              " 'eos',\n",
              " 'ergo',\n",
              " 'huobi-token',\n",
              " 'zbg-token',\n",
              " 'unlimitedip',\n",
              " 'monacoin',\n",
              " 'naga',\n",
              " 'mktcoin',\n",
              " 'reddcoin',\n",
              " 'flash',\n",
              " 'dnotes',\n",
              " 'purex',\n",
              " 'rhenium',\n",
              " 'iocoin',\n",
              " 'coinsuper-ecosystem-network',\n",
              " 'tokenomy',\n",
              " 'zclassic',\n",
              " 'viacoin',\n",
              " 'ravencoin',\n",
              " 'digitex-futures']"
            ]
          },
          "metadata": {},
          "execution_count": 142
        }
      ]
    },
    {
      "cell_type": "code",
      "source": [
        "tokens.remove(\"datetime\")"
      ],
      "metadata": {
        "id": "v3vVM2obRti7"
      },
      "execution_count": 149,
      "outputs": []
    },
    {
      "cell_type": "code",
      "source": [
        "tokens.index(\"binance-coin\")"
      ],
      "metadata": {
        "colab": {
          "base_uri": "https://localhost:8080/"
        },
        "id": "h_71zx9fThEB",
        "outputId": "5daec120-e0d2-4e50-e99d-344433075d70"
      },
      "execution_count": 138,
      "outputs": [
        {
          "output_type": "execute_result",
          "data": {
            "text/plain": [
              "40"
            ]
          },
          "metadata": {},
          "execution_count": 138
        }
      ]
    },
    {
      "cell_type": "code",
      "source": [
        "local_df = caps_and_prices_df.copy()\n"
      ],
      "metadata": {
        "id": "Vo0oV4bWRX4t"
      },
      "execution_count": 100,
      "outputs": []
    },
    {
      "cell_type": "markdown",
      "metadata": {
        "id": "ZRYkug6UVd_3"
      },
      "source": [
        "### --> Here would be a good place to experiment with asset selection."
      ]
    },
    {
      "cell_type": "code",
      "execution_count": 150,
      "metadata": {
        "id": "mzLCiX2bVd_4"
      },
      "outputs": [],
      "source": [
        "# ATTENTION: this is untested :) \n",
        "mySelection = ['leocoin', \"huobi-token\", \"binance-coin\", \"opcoinx\", \"kucoin-shares\"]\n",
        "for token in tokens:\n",
        "    token_columns = [\"\".join([token, x]) for x in [\"_price\", \"_cap\"]]\n",
        "    if token not in mySelection:\n",
        "      caps_and_prices_df.drop(columns=token_columns, inplace = True)"
      ]
    },
    {
      "cell_type": "code",
      "source": [
        "caps_and_prices_df.head()"
      ],
      "metadata": {
        "colab": {
          "base_uri": "https://localhost:8080/",
          "height": 206
        },
        "id": "LFcHgWmzOz6j",
        "outputId": "c417db96-4ff1-42b1-8876-186f8d9540ff"
      },
      "execution_count": 151,
      "outputs": [
        {
          "output_type": "execute_result",
          "data": {
            "text/plain": [
              "                    datetime  huobi-token_price  kucoin-shares_price  \\\n",
              "0  2019-01-01 00:00:00+00:00           1.109692             0.640510   \n",
              "1  2019-01-02 00:00:00+00:00           1.156190             0.653204   \n",
              "2  2019-01-03 00:00:00+00:00           1.090098             0.614014   \n",
              "3  2019-01-04 00:00:00+00:00           1.093280             0.605391   \n",
              "4  2019-01-05 00:00:00+00:00           1.094235             0.606198   \n",
              "\n",
              "   binance-coin_price  leocoin_price  opcoinx_price  huobi-token_cap  \\\n",
              "0            6.075273       0.059132       0.000809       55484820.0   \n",
              "1            6.188613       0.059728       0.000827       57809725.0   \n",
              "2            5.901921       0.057593       0.000844       54505127.0   \n",
              "3            6.065138       0.052544       0.000810       54664240.0   \n",
              "4            6.065543       0.058834       0.000806       54711985.0   \n",
              "\n",
              "   kucoin-shares_cap  binance-coin_cap  leocoin_cap  opcoinx_cap  \n",
              "0         57734363.0       794641453.0    6016238.0      62830.0  \n",
              "1         58878609.0       809466353.0    6076945.0      64191.0  \n",
              "2         55346123.0       771967119.0    5859707.0      65512.0  \n",
              "3         54568823.0       793315819.0    5345966.0      62900.0  \n",
              "4         54641528.0       793368779.0    5985921.0      62559.0  "
            ],
            "text/html": [
              "\n",
              "  <div id=\"df-08ba42f8-53f5-4f7a-bb14-207da718adf2\">\n",
              "    <div class=\"colab-df-container\">\n",
              "      <div>\n",
              "<style scoped>\n",
              "    .dataframe tbody tr th:only-of-type {\n",
              "        vertical-align: middle;\n",
              "    }\n",
              "\n",
              "    .dataframe tbody tr th {\n",
              "        vertical-align: top;\n",
              "    }\n",
              "\n",
              "    .dataframe thead th {\n",
              "        text-align: right;\n",
              "    }\n",
              "</style>\n",
              "<table border=\"1\" class=\"dataframe\">\n",
              "  <thead>\n",
              "    <tr style=\"text-align: right;\">\n",
              "      <th></th>\n",
              "      <th>datetime</th>\n",
              "      <th>huobi-token_price</th>\n",
              "      <th>kucoin-shares_price</th>\n",
              "      <th>binance-coin_price</th>\n",
              "      <th>leocoin_price</th>\n",
              "      <th>opcoinx_price</th>\n",
              "      <th>huobi-token_cap</th>\n",
              "      <th>kucoin-shares_cap</th>\n",
              "      <th>binance-coin_cap</th>\n",
              "      <th>leocoin_cap</th>\n",
              "      <th>opcoinx_cap</th>\n",
              "    </tr>\n",
              "  </thead>\n",
              "  <tbody>\n",
              "    <tr>\n",
              "      <th>0</th>\n",
              "      <td>2019-01-01 00:00:00+00:00</td>\n",
              "      <td>1.109692</td>\n",
              "      <td>0.640510</td>\n",
              "      <td>6.075273</td>\n",
              "      <td>0.059132</td>\n",
              "      <td>0.000809</td>\n",
              "      <td>55484820.0</td>\n",
              "      <td>57734363.0</td>\n",
              "      <td>794641453.0</td>\n",
              "      <td>6016238.0</td>\n",
              "      <td>62830.0</td>\n",
              "    </tr>\n",
              "    <tr>\n",
              "      <th>1</th>\n",
              "      <td>2019-01-02 00:00:00+00:00</td>\n",
              "      <td>1.156190</td>\n",
              "      <td>0.653204</td>\n",
              "      <td>6.188613</td>\n",
              "      <td>0.059728</td>\n",
              "      <td>0.000827</td>\n",
              "      <td>57809725.0</td>\n",
              "      <td>58878609.0</td>\n",
              "      <td>809466353.0</td>\n",
              "      <td>6076945.0</td>\n",
              "      <td>64191.0</td>\n",
              "    </tr>\n",
              "    <tr>\n",
              "      <th>2</th>\n",
              "      <td>2019-01-03 00:00:00+00:00</td>\n",
              "      <td>1.090098</td>\n",
              "      <td>0.614014</td>\n",
              "      <td>5.901921</td>\n",
              "      <td>0.057593</td>\n",
              "      <td>0.000844</td>\n",
              "      <td>54505127.0</td>\n",
              "      <td>55346123.0</td>\n",
              "      <td>771967119.0</td>\n",
              "      <td>5859707.0</td>\n",
              "      <td>65512.0</td>\n",
              "    </tr>\n",
              "    <tr>\n",
              "      <th>3</th>\n",
              "      <td>2019-01-04 00:00:00+00:00</td>\n",
              "      <td>1.093280</td>\n",
              "      <td>0.605391</td>\n",
              "      <td>6.065138</td>\n",
              "      <td>0.052544</td>\n",
              "      <td>0.000810</td>\n",
              "      <td>54664240.0</td>\n",
              "      <td>54568823.0</td>\n",
              "      <td>793315819.0</td>\n",
              "      <td>5345966.0</td>\n",
              "      <td>62900.0</td>\n",
              "    </tr>\n",
              "    <tr>\n",
              "      <th>4</th>\n",
              "      <td>2019-01-05 00:00:00+00:00</td>\n",
              "      <td>1.094235</td>\n",
              "      <td>0.606198</td>\n",
              "      <td>6.065543</td>\n",
              "      <td>0.058834</td>\n",
              "      <td>0.000806</td>\n",
              "      <td>54711985.0</td>\n",
              "      <td>54641528.0</td>\n",
              "      <td>793368779.0</td>\n",
              "      <td>5985921.0</td>\n",
              "      <td>62559.0</td>\n",
              "    </tr>\n",
              "  </tbody>\n",
              "</table>\n",
              "</div>\n",
              "      <button class=\"colab-df-convert\" onclick=\"convertToInteractive('df-08ba42f8-53f5-4f7a-bb14-207da718adf2')\"\n",
              "              title=\"Convert this dataframe to an interactive table.\"\n",
              "              style=\"display:none;\">\n",
              "        \n",
              "  <svg xmlns=\"http://www.w3.org/2000/svg\" height=\"24px\"viewBox=\"0 0 24 24\"\n",
              "       width=\"24px\">\n",
              "    <path d=\"M0 0h24v24H0V0z\" fill=\"none\"/>\n",
              "    <path d=\"M18.56 5.44l.94 2.06.94-2.06 2.06-.94-2.06-.94-.94-2.06-.94 2.06-2.06.94zm-11 1L8.5 8.5l.94-2.06 2.06-.94-2.06-.94L8.5 2.5l-.94 2.06-2.06.94zm10 10l.94 2.06.94-2.06 2.06-.94-2.06-.94-.94-2.06-.94 2.06-2.06.94z\"/><path d=\"M17.41 7.96l-1.37-1.37c-.4-.4-.92-.59-1.43-.59-.52 0-1.04.2-1.43.59L10.3 9.45l-7.72 7.72c-.78.78-.78 2.05 0 2.83L4 21.41c.39.39.9.59 1.41.59.51 0 1.02-.2 1.41-.59l7.78-7.78 2.81-2.81c.8-.78.8-2.07 0-2.86zM5.41 20L4 18.59l7.72-7.72 1.47 1.35L5.41 20z\"/>\n",
              "  </svg>\n",
              "      </button>\n",
              "      \n",
              "  <style>\n",
              "    .colab-df-container {\n",
              "      display:flex;\n",
              "      flex-wrap:wrap;\n",
              "      gap: 12px;\n",
              "    }\n",
              "\n",
              "    .colab-df-convert {\n",
              "      background-color: #E8F0FE;\n",
              "      border: none;\n",
              "      border-radius: 50%;\n",
              "      cursor: pointer;\n",
              "      display: none;\n",
              "      fill: #1967D2;\n",
              "      height: 32px;\n",
              "      padding: 0 0 0 0;\n",
              "      width: 32px;\n",
              "    }\n",
              "\n",
              "    .colab-df-convert:hover {\n",
              "      background-color: #E2EBFA;\n",
              "      box-shadow: 0px 1px 2px rgba(60, 64, 67, 0.3), 0px 1px 3px 1px rgba(60, 64, 67, 0.15);\n",
              "      fill: #174EA6;\n",
              "    }\n",
              "\n",
              "    [theme=dark] .colab-df-convert {\n",
              "      background-color: #3B4455;\n",
              "      fill: #D2E3FC;\n",
              "    }\n",
              "\n",
              "    [theme=dark] .colab-df-convert:hover {\n",
              "      background-color: #434B5C;\n",
              "      box-shadow: 0px 1px 3px 1px rgba(0, 0, 0, 0.15);\n",
              "      filter: drop-shadow(0px 1px 2px rgba(0, 0, 0, 0.3));\n",
              "      fill: #FFFFFF;\n",
              "    }\n",
              "  </style>\n",
              "\n",
              "      <script>\n",
              "        const buttonEl =\n",
              "          document.querySelector('#df-08ba42f8-53f5-4f7a-bb14-207da718adf2 button.colab-df-convert');\n",
              "        buttonEl.style.display =\n",
              "          google.colab.kernel.accessAllowed ? 'block' : 'none';\n",
              "\n",
              "        async function convertToInteractive(key) {\n",
              "          const element = document.querySelector('#df-08ba42f8-53f5-4f7a-bb14-207da718adf2');\n",
              "          const dataTable =\n",
              "            await google.colab.kernel.invokeFunction('convertToInteractive',\n",
              "                                                     [key], {});\n",
              "          if (!dataTable) return;\n",
              "\n",
              "          const docLinkHtml = 'Like what you see? Visit the ' +\n",
              "            '<a target=\"_blank\" href=https://colab.research.google.com/notebooks/data_table.ipynb>data table notebook</a>'\n",
              "            + ' to learn more about interactive tables.';\n",
              "          element.innerHTML = '';\n",
              "          dataTable['output_type'] = 'display_data';\n",
              "          await google.colab.output.renderOutput(dataTable, element);\n",
              "          const docLink = document.createElement('div');\n",
              "          docLink.innerHTML = docLinkHtml;\n",
              "          element.appendChild(docLink);\n",
              "        }\n",
              "      </script>\n",
              "    </div>\n",
              "  </div>\n",
              "  "
            ]
          },
          "metadata": {},
          "execution_count": 151
        }
      ]
    },
    {
      "cell_type": "markdown",
      "metadata": {
        "id": "_E7lJUF9Vd_5"
      },
      "source": [
        "### the price columns have the suffix '_price' and the market capitalization columns have the suffix '_cap'"
      ]
    },
    {
      "cell_type": "code",
      "execution_count": 169,
      "metadata": {
        "colab": {
          "base_uri": "https://localhost:8080/",
          "height": 411
        },
        "id": "DURTVqi1Vd_6",
        "outputId": "5ac476a7-f7ac-48c9-d115-c39bc95f13b5"
      },
      "outputs": [
        {
          "output_type": "execute_result",
          "data": {
            "text/plain": [
              "       huobi-token_price  kucoin-shares_price  binance-coin_price  \\\n",
              "count        1302.000000          1302.000000         1302.000000   \n",
              "mean            6.838365             6.315389          173.923376   \n",
              "std             5.073178             7.305497          197.959365   \n",
              "min             0.918539             0.348388            5.568757   \n",
              "25%             3.694672             0.968786           18.239553   \n",
              "50%             4.661739             1.409038           30.681977   \n",
              "75%             9.413480            11.306608          355.228911   \n",
              "max            34.649789            27.565544          675.684077   \n",
              "\n",
              "       leocoin_price  opcoinx_price  huobi-token_cap  kucoin-shares_cap  \\\n",
              "count    1302.000000    1302.000000     1.302000e+03       1.302000e+03   \n",
              "mean        0.077447       0.000382     1.180014e+09       5.278473e+08   \n",
              "std         0.046696       0.000486     9.243646e+08       6.088058e+08   \n",
              "min         0.000581       0.000084     4.592713e+07       3.133397e+07   \n",
              "25%         0.046425       0.000130     7.413826e+08       7.939373e+07   \n",
              "50%         0.085046       0.000130     9.603725e+08       1.217367e+08   \n",
              "75%         0.107072       0.000353     1.483920e+09       9.581111e+08   \n",
              "max         0.377297       0.005237     6.212219e+09       2.208514e+09   \n",
              "\n",
              "       binance-coin_cap   leocoin_cap    opcoinx_cap  ...  \\\n",
              "count      1.302000e+03  1.302000e+03    1302.000000  ...   \n",
              "mean       2.810829e+10  1.801273e+06   54484.620584  ...   \n",
              "std        3.247111e+10  2.774084e+06   68875.330701  ...   \n",
              "min        7.283895e+08  1.766000e+03   13642.000000  ...   \n",
              "25%        2.768618e+09  4.905218e+05   21274.000000  ...   \n",
              "50%        4.478079e+09  5.749680e+05   21274.000000  ...   \n",
              "75%        5.682696e+10  1.136416e+06   56670.750000  ...   \n",
              "max        1.091405e+11  1.318822e+07  823612.000000  ...   \n",
              "\n",
              "       binance-coin_returns_1  leocoin_returns_1  opcoinx_returns_1  \\\n",
              "count             1302.000000        1302.000000        1302.000000   \n",
              "mean                 0.004395           0.093374           0.020892   \n",
              "std                  0.055768           3.208470           0.248671   \n",
              "min                 -0.423842          -0.558625          -0.756056   \n",
              "25%                 -0.020224          -0.019926           0.000000   \n",
              "50%                  0.001498           0.000000           0.000000   \n",
              "75%                  0.028554           0.015392           0.000000   \n",
              "max                  0.697604         115.661526           2.941767   \n",
              "\n",
              "       totalIndexCap  marketCapWeightedReturns  marketCapRankWeightedReturns  \\\n",
              "count   1.302000e+03               1302.000000                   1302.000000   \n",
              "mean    2.981800e+10                  0.004283                      0.004305   \n",
              "std     3.366008e+10                  0.053777                      0.054163   \n",
              "min     8.324903e+08                 -0.404022                     -0.409149   \n",
              "25%     3.657041e+09                 -0.018904                     -0.018885   \n",
              "50%     5.122484e+09                  0.002297                      0.002003   \n",
              "75%     6.003472e+10                  0.027146                      0.027086   \n",
              "max     1.127463e+11                  0.689169                      0.691023   \n",
              "\n",
              "       marketTanhWeightedReturns  linearWeightingIndex  rankWeightingIndex  \\\n",
              "count                1302.000000           1302.000000         1302.000000   \n",
              "mean                    0.004049          28523.791314        28585.597821   \n",
              "std                     0.051268          32169.468177        32281.158561   \n",
              "min                    -0.378541            912.647493          914.076649   \n",
              "25%                    -0.017427           3255.935527         3191.802229   \n",
              "50%                     0.002483           5172.508732         5163.393331   \n",
              "75%                     0.025300          57971.703317        58154.123793   \n",
              "max                     0.671588         109645.227689       110207.602091   \n",
              "\n",
              "       tanhWeightingIndex  \n",
              "count         1302.000000  \n",
              "mean         25076.874000  \n",
              "std          27573.428171  \n",
              "min            902.158464  \n",
              "25%           3558.916137  \n",
              "50%           4983.931677  \n",
              "75%          49739.496866  \n",
              "max          94317.758555  \n",
              "\n",
              "[8 rows x 28 columns]"
            ],
            "text/html": [
              "\n",
              "  <div id=\"df-ac38426c-78bc-4f85-8d56-a9ff17ba25e2\">\n",
              "    <div class=\"colab-df-container\">\n",
              "      <div>\n",
              "<style scoped>\n",
              "    .dataframe tbody tr th:only-of-type {\n",
              "        vertical-align: middle;\n",
              "    }\n",
              "\n",
              "    .dataframe tbody tr th {\n",
              "        vertical-align: top;\n",
              "    }\n",
              "\n",
              "    .dataframe thead th {\n",
              "        text-align: right;\n",
              "    }\n",
              "</style>\n",
              "<table border=\"1\" class=\"dataframe\">\n",
              "  <thead>\n",
              "    <tr style=\"text-align: right;\">\n",
              "      <th></th>\n",
              "      <th>huobi-token_price</th>\n",
              "      <th>kucoin-shares_price</th>\n",
              "      <th>binance-coin_price</th>\n",
              "      <th>leocoin_price</th>\n",
              "      <th>opcoinx_price</th>\n",
              "      <th>huobi-token_cap</th>\n",
              "      <th>kucoin-shares_cap</th>\n",
              "      <th>binance-coin_cap</th>\n",
              "      <th>leocoin_cap</th>\n",
              "      <th>opcoinx_cap</th>\n",
              "      <th>...</th>\n",
              "      <th>binance-coin_returns_1</th>\n",
              "      <th>leocoin_returns_1</th>\n",
              "      <th>opcoinx_returns_1</th>\n",
              "      <th>totalIndexCap</th>\n",
              "      <th>marketCapWeightedReturns</th>\n",
              "      <th>marketCapRankWeightedReturns</th>\n",
              "      <th>marketTanhWeightedReturns</th>\n",
              "      <th>linearWeightingIndex</th>\n",
              "      <th>rankWeightingIndex</th>\n",
              "      <th>tanhWeightingIndex</th>\n",
              "    </tr>\n",
              "  </thead>\n",
              "  <tbody>\n",
              "    <tr>\n",
              "      <th>count</th>\n",
              "      <td>1302.000000</td>\n",
              "      <td>1302.000000</td>\n",
              "      <td>1302.000000</td>\n",
              "      <td>1302.000000</td>\n",
              "      <td>1302.000000</td>\n",
              "      <td>1.302000e+03</td>\n",
              "      <td>1.302000e+03</td>\n",
              "      <td>1.302000e+03</td>\n",
              "      <td>1.302000e+03</td>\n",
              "      <td>1302.000000</td>\n",
              "      <td>...</td>\n",
              "      <td>1302.000000</td>\n",
              "      <td>1302.000000</td>\n",
              "      <td>1302.000000</td>\n",
              "      <td>1.302000e+03</td>\n",
              "      <td>1302.000000</td>\n",
              "      <td>1302.000000</td>\n",
              "      <td>1302.000000</td>\n",
              "      <td>1302.000000</td>\n",
              "      <td>1302.000000</td>\n",
              "      <td>1302.000000</td>\n",
              "    </tr>\n",
              "    <tr>\n",
              "      <th>mean</th>\n",
              "      <td>6.838365</td>\n",
              "      <td>6.315389</td>\n",
              "      <td>173.923376</td>\n",
              "      <td>0.077447</td>\n",
              "      <td>0.000382</td>\n",
              "      <td>1.180014e+09</td>\n",
              "      <td>5.278473e+08</td>\n",
              "      <td>2.810829e+10</td>\n",
              "      <td>1.801273e+06</td>\n",
              "      <td>54484.620584</td>\n",
              "      <td>...</td>\n",
              "      <td>0.004395</td>\n",
              "      <td>0.093374</td>\n",
              "      <td>0.020892</td>\n",
              "      <td>2.981800e+10</td>\n",
              "      <td>0.004283</td>\n",
              "      <td>0.004305</td>\n",
              "      <td>0.004049</td>\n",
              "      <td>28523.791314</td>\n",
              "      <td>28585.597821</td>\n",
              "      <td>25076.874000</td>\n",
              "    </tr>\n",
              "    <tr>\n",
              "      <th>std</th>\n",
              "      <td>5.073178</td>\n",
              "      <td>7.305497</td>\n",
              "      <td>197.959365</td>\n",
              "      <td>0.046696</td>\n",
              "      <td>0.000486</td>\n",
              "      <td>9.243646e+08</td>\n",
              "      <td>6.088058e+08</td>\n",
              "      <td>3.247111e+10</td>\n",
              "      <td>2.774084e+06</td>\n",
              "      <td>68875.330701</td>\n",
              "      <td>...</td>\n",
              "      <td>0.055768</td>\n",
              "      <td>3.208470</td>\n",
              "      <td>0.248671</td>\n",
              "      <td>3.366008e+10</td>\n",
              "      <td>0.053777</td>\n",
              "      <td>0.054163</td>\n",
              "      <td>0.051268</td>\n",
              "      <td>32169.468177</td>\n",
              "      <td>32281.158561</td>\n",
              "      <td>27573.428171</td>\n",
              "    </tr>\n",
              "    <tr>\n",
              "      <th>min</th>\n",
              "      <td>0.918539</td>\n",
              "      <td>0.348388</td>\n",
              "      <td>5.568757</td>\n",
              "      <td>0.000581</td>\n",
              "      <td>0.000084</td>\n",
              "      <td>4.592713e+07</td>\n",
              "      <td>3.133397e+07</td>\n",
              "      <td>7.283895e+08</td>\n",
              "      <td>1.766000e+03</td>\n",
              "      <td>13642.000000</td>\n",
              "      <td>...</td>\n",
              "      <td>-0.423842</td>\n",
              "      <td>-0.558625</td>\n",
              "      <td>-0.756056</td>\n",
              "      <td>8.324903e+08</td>\n",
              "      <td>-0.404022</td>\n",
              "      <td>-0.409149</td>\n",
              "      <td>-0.378541</td>\n",
              "      <td>912.647493</td>\n",
              "      <td>914.076649</td>\n",
              "      <td>902.158464</td>\n",
              "    </tr>\n",
              "    <tr>\n",
              "      <th>25%</th>\n",
              "      <td>3.694672</td>\n",
              "      <td>0.968786</td>\n",
              "      <td>18.239553</td>\n",
              "      <td>0.046425</td>\n",
              "      <td>0.000130</td>\n",
              "      <td>7.413826e+08</td>\n",
              "      <td>7.939373e+07</td>\n",
              "      <td>2.768618e+09</td>\n",
              "      <td>4.905218e+05</td>\n",
              "      <td>21274.000000</td>\n",
              "      <td>...</td>\n",
              "      <td>-0.020224</td>\n",
              "      <td>-0.019926</td>\n",
              "      <td>0.000000</td>\n",
              "      <td>3.657041e+09</td>\n",
              "      <td>-0.018904</td>\n",
              "      <td>-0.018885</td>\n",
              "      <td>-0.017427</td>\n",
              "      <td>3255.935527</td>\n",
              "      <td>3191.802229</td>\n",
              "      <td>3558.916137</td>\n",
              "    </tr>\n",
              "    <tr>\n",
              "      <th>50%</th>\n",
              "      <td>4.661739</td>\n",
              "      <td>1.409038</td>\n",
              "      <td>30.681977</td>\n",
              "      <td>0.085046</td>\n",
              "      <td>0.000130</td>\n",
              "      <td>9.603725e+08</td>\n",
              "      <td>1.217367e+08</td>\n",
              "      <td>4.478079e+09</td>\n",
              "      <td>5.749680e+05</td>\n",
              "      <td>21274.000000</td>\n",
              "      <td>...</td>\n",
              "      <td>0.001498</td>\n",
              "      <td>0.000000</td>\n",
              "      <td>0.000000</td>\n",
              "      <td>5.122484e+09</td>\n",
              "      <td>0.002297</td>\n",
              "      <td>0.002003</td>\n",
              "      <td>0.002483</td>\n",
              "      <td>5172.508732</td>\n",
              "      <td>5163.393331</td>\n",
              "      <td>4983.931677</td>\n",
              "    </tr>\n",
              "    <tr>\n",
              "      <th>75%</th>\n",
              "      <td>9.413480</td>\n",
              "      <td>11.306608</td>\n",
              "      <td>355.228911</td>\n",
              "      <td>0.107072</td>\n",
              "      <td>0.000353</td>\n",
              "      <td>1.483920e+09</td>\n",
              "      <td>9.581111e+08</td>\n",
              "      <td>5.682696e+10</td>\n",
              "      <td>1.136416e+06</td>\n",
              "      <td>56670.750000</td>\n",
              "      <td>...</td>\n",
              "      <td>0.028554</td>\n",
              "      <td>0.015392</td>\n",
              "      <td>0.000000</td>\n",
              "      <td>6.003472e+10</td>\n",
              "      <td>0.027146</td>\n",
              "      <td>0.027086</td>\n",
              "      <td>0.025300</td>\n",
              "      <td>57971.703317</td>\n",
              "      <td>58154.123793</td>\n",
              "      <td>49739.496866</td>\n",
              "    </tr>\n",
              "    <tr>\n",
              "      <th>max</th>\n",
              "      <td>34.649789</td>\n",
              "      <td>27.565544</td>\n",
              "      <td>675.684077</td>\n",
              "      <td>0.377297</td>\n",
              "      <td>0.005237</td>\n",
              "      <td>6.212219e+09</td>\n",
              "      <td>2.208514e+09</td>\n",
              "      <td>1.091405e+11</td>\n",
              "      <td>1.318822e+07</td>\n",
              "      <td>823612.000000</td>\n",
              "      <td>...</td>\n",
              "      <td>0.697604</td>\n",
              "      <td>115.661526</td>\n",
              "      <td>2.941767</td>\n",
              "      <td>1.127463e+11</td>\n",
              "      <td>0.689169</td>\n",
              "      <td>0.691023</td>\n",
              "      <td>0.671588</td>\n",
              "      <td>109645.227689</td>\n",
              "      <td>110207.602091</td>\n",
              "      <td>94317.758555</td>\n",
              "    </tr>\n",
              "  </tbody>\n",
              "</table>\n",
              "<p>8 rows × 28 columns</p>\n",
              "</div>\n",
              "      <button class=\"colab-df-convert\" onclick=\"convertToInteractive('df-ac38426c-78bc-4f85-8d56-a9ff17ba25e2')\"\n",
              "              title=\"Convert this dataframe to an interactive table.\"\n",
              "              style=\"display:none;\">\n",
              "        \n",
              "  <svg xmlns=\"http://www.w3.org/2000/svg\" height=\"24px\"viewBox=\"0 0 24 24\"\n",
              "       width=\"24px\">\n",
              "    <path d=\"M0 0h24v24H0V0z\" fill=\"none\"/>\n",
              "    <path d=\"M18.56 5.44l.94 2.06.94-2.06 2.06-.94-2.06-.94-.94-2.06-.94 2.06-2.06.94zm-11 1L8.5 8.5l.94-2.06 2.06-.94-2.06-.94L8.5 2.5l-.94 2.06-2.06.94zm10 10l.94 2.06.94-2.06 2.06-.94-2.06-.94-.94-2.06-.94 2.06-2.06.94z\"/><path d=\"M17.41 7.96l-1.37-1.37c-.4-.4-.92-.59-1.43-.59-.52 0-1.04.2-1.43.59L10.3 9.45l-7.72 7.72c-.78.78-.78 2.05 0 2.83L4 21.41c.39.39.9.59 1.41.59.51 0 1.02-.2 1.41-.59l7.78-7.78 2.81-2.81c.8-.78.8-2.07 0-2.86zM5.41 20L4 18.59l7.72-7.72 1.47 1.35L5.41 20z\"/>\n",
              "  </svg>\n",
              "      </button>\n",
              "      \n",
              "  <style>\n",
              "    .colab-df-container {\n",
              "      display:flex;\n",
              "      flex-wrap:wrap;\n",
              "      gap: 12px;\n",
              "    }\n",
              "\n",
              "    .colab-df-convert {\n",
              "      background-color: #E8F0FE;\n",
              "      border: none;\n",
              "      border-radius: 50%;\n",
              "      cursor: pointer;\n",
              "      display: none;\n",
              "      fill: #1967D2;\n",
              "      height: 32px;\n",
              "      padding: 0 0 0 0;\n",
              "      width: 32px;\n",
              "    }\n",
              "\n",
              "    .colab-df-convert:hover {\n",
              "      background-color: #E2EBFA;\n",
              "      box-shadow: 0px 1px 2px rgba(60, 64, 67, 0.3), 0px 1px 3px 1px rgba(60, 64, 67, 0.15);\n",
              "      fill: #174EA6;\n",
              "    }\n",
              "\n",
              "    [theme=dark] .colab-df-convert {\n",
              "      background-color: #3B4455;\n",
              "      fill: #D2E3FC;\n",
              "    }\n",
              "\n",
              "    [theme=dark] .colab-df-convert:hover {\n",
              "      background-color: #434B5C;\n",
              "      box-shadow: 0px 1px 3px 1px rgba(0, 0, 0, 0.15);\n",
              "      filter: drop-shadow(0px 1px 2px rgba(0, 0, 0, 0.3));\n",
              "      fill: #FFFFFF;\n",
              "    }\n",
              "  </style>\n",
              "\n",
              "      <script>\n",
              "        const buttonEl =\n",
              "          document.querySelector('#df-ac38426c-78bc-4f85-8d56-a9ff17ba25e2 button.colab-df-convert');\n",
              "        buttonEl.style.display =\n",
              "          google.colab.kernel.accessAllowed ? 'block' : 'none';\n",
              "\n",
              "        async function convertToInteractive(key) {\n",
              "          const element = document.querySelector('#df-ac38426c-78bc-4f85-8d56-a9ff17ba25e2');\n",
              "          const dataTable =\n",
              "            await google.colab.kernel.invokeFunction('convertToInteractive',\n",
              "                                                     [key], {});\n",
              "          if (!dataTable) return;\n",
              "\n",
              "          const docLinkHtml = 'Like what you see? Visit the ' +\n",
              "            '<a target=\"_blank\" href=https://colab.research.google.com/notebooks/data_table.ipynb>data table notebook</a>'\n",
              "            + ' to learn more about interactive tables.';\n",
              "          element.innerHTML = '';\n",
              "          dataTable['output_type'] = 'display_data';\n",
              "          await google.colab.output.renderOutput(dataTable, element);\n",
              "          const docLink = document.createElement('div');\n",
              "          docLink.innerHTML = docLinkHtml;\n",
              "          element.appendChild(docLink);\n",
              "        }\n",
              "      </script>\n",
              "    </div>\n",
              "  </div>\n",
              "  "
            ]
          },
          "metadata": {},
          "execution_count": 169
        }
      ],
      "source": [
        "caps_and_prices_df.describe()"
      ]
    },
    {
      "cell_type": "markdown",
      "metadata": {
        "id": "92E_1h2ZVd_7"
      },
      "source": [
        "### definition of routine to obtain and add the total and the relative market capitalization\n",
        "### -> this will create columns with the suffix '_relCap' and one 'totalMarketCap' column"
      ]
    },
    {
      "cell_type": "code",
      "execution_count": 108,
      "metadata": {
        "id": "boYaxxj_Vd_7"
      },
      "outputs": [],
      "source": [
        "def getTotalAndRelativeMarketCap(capCols:list=None,marketData:pd.DataFrame=None):\n",
        "    marketData['totalMarketCap'] = marketData[capCols].sum(axis=1)\n",
        "    for capCol in capCols:\n",
        "        relCapCol = capCol.replace('_cap','_relCap')\n",
        "        marketData[relCapCol] = marketData[capCol]/marketData['totalMarketCap']\n",
        "    return marketData"
      ]
    },
    {
      "cell_type": "code",
      "execution_count": 152,
      "metadata": {
        "id": "Chlvktx4Vd_8"
      },
      "outputs": [],
      "source": [
        "capCols = [col for col in caps_and_prices_df.columns if '_cap' in col]\n",
        "caps_and_prices_df = getTotalAndRelativeMarketCap(capCols=capCols, marketData=caps_and_prices_df)"
      ]
    },
    {
      "cell_type": "code",
      "execution_count": 153,
      "metadata": {
        "id": "CCQ2KwbPVd_8"
      },
      "outputs": [],
      "source": [
        "for cap in capCols:\n",
        "    values = caps_and_prices_df[[cap]].iloc[880:884]\n",
        "    max = float(np.amax(values))\n",
        "    min = float(np.amin(values))\n",
        "\n",
        "    if max/min > 100:\n",
        "        print(f\"what? {cap}: {min} {max} {values}\")"
      ]
    },
    {
      "cell_type": "markdown",
      "metadata": {
        "id": "EdgnKyC2Vd_9"
      },
      "source": [
        "### collecting columns of prices and (relative) market caps in lists "
      ]
    },
    {
      "cell_type": "code",
      "execution_count": 154,
      "metadata": {
        "id": "Umn-yqmEVd_9"
      },
      "outputs": [],
      "source": [
        "priceCols = [col for col in caps_and_prices_df.columns if '_price' in col]\n",
        "relCapCols =  [col for col in caps_and_prices_df.columns if '_relCap' in col]"
      ]
    },
    {
      "cell_type": "code",
      "execution_count": 155,
      "metadata": {
        "colab": {
          "base_uri": "https://localhost:8080/"
        },
        "id": "r3f6MZwfVd_9",
        "outputId": "e26ab193-e96e-4d8b-a57e-725b93390ffa"
      },
      "outputs": [
        {
          "output_type": "execute_result",
          "data": {
            "text/plain": [
              "5"
            ]
          },
          "metadata": {},
          "execution_count": 155
        }
      ],
      "source": [
        "len(priceCols)"
      ]
    },
    {
      "cell_type": "code",
      "execution_count": 156,
      "metadata": {
        "colab": {
          "base_uri": "https://localhost:8080/"
        },
        "id": "7gV8xn6tVd_-",
        "outputId": "dd3c3977-f8ff-4e19-f683-0d5aa44072c2"
      },
      "outputs": [
        {
          "output_type": "execute_result",
          "data": {
            "text/plain": [
              "5"
            ]
          },
          "metadata": {},
          "execution_count": 156
        }
      ],
      "source": [
        "len(relCapCols)"
      ]
    },
    {
      "cell_type": "markdown",
      "metadata": {
        "id": "RtV8Y5__Vd_-"
      },
      "source": [
        "## routine to rank the assets according to their relative market capitalization\n",
        "### --> here would be a good place to play with performance metrics"
      ]
    },
    {
      "cell_type": "code",
      "execution_count": 157,
      "metadata": {
        "id": "Ys5ITzTCVd_-"
      },
      "outputs": [],
      "source": [
        "def getRelCapRanks(coins:list=None, values:np.ndarray = None):\n",
        "    temp = values.argsort()\n",
        "    ranks = np.arange(len(values))[temp.argsort()]\n",
        "\n",
        "    ranksDict = {}\n",
        "    for coin,rank in zip(coins,ranks):\n",
        "        ranksDict[coin] = len(ranks)-rank\n",
        "    return ranksDict"
      ]
    },
    {
      "cell_type": "markdown",
      "metadata": {
        "id": "md4oghW0Vd__"
      },
      "source": [
        "## routine to compute returns with a window of 'lag'\n",
        "### --> here would be a good place to play with performance metrics"
      ]
    },
    {
      "cell_type": "code",
      "execution_count": 158,
      "metadata": {
        "id": "tH7OWdvmVd__"
      },
      "outputs": [],
      "source": [
        "def addReturns(priceCols:list,lag:int=1, marketData:pd.DataFrame=None):\n",
        "    for priceCol in priceCols:\n",
        "        returnsCol = priceCol.replace('_price',f'_returns_{lag}')\n",
        "        marketData[returnsCol] = marketData[priceCol].pct_change(lag).fillna(0.0)\n",
        "    return marketData\n"
      ]
    },
    {
      "cell_type": "code",
      "execution_count": 159,
      "metadata": {
        "id": "AruPFxtyVd__"
      },
      "outputs": [],
      "source": [
        "caps_and_prices_df = addReturns(priceCols=priceCols, marketData=caps_and_prices_df)"
      ]
    },
    {
      "cell_type": "markdown",
      "metadata": {
        "id": "ql9pPSe9VeAA"
      },
      "source": [
        "### playground for weighting function (here, tangent hyperbolic)"
      ]
    },
    {
      "cell_type": "code",
      "execution_count": 117,
      "metadata": {
        "colab": {
          "base_uri": "https://localhost:8080/",
          "height": 282
        },
        "id": "vTlcCmRHVeAA",
        "outputId": "5403603f-a336-439b-df60-af7ad9d72b12"
      },
      "outputs": [
        {
          "output_type": "execute_result",
          "data": {
            "text/plain": [
              "[<matplotlib.lines.Line2D at 0x7f47e1a8edd0>]"
            ]
          },
          "metadata": {},
          "execution_count": 117
        },
        {
          "output_type": "display_data",
          "data": {
            "text/plain": [
              "<Figure size 432x288 with 1 Axes>"
            ],
            "image/png": "[encoded data removed]"
          },
          "metadata": {
            "needs_background": "light"
          }
        }
      ],
      "source": [
        "plt.plot(\n",
        "    np.linspace(0.2, np.pi, 15),  # values on horizontal axis (rank of constituents)\n",
        "    np.tanh(np.linspace(0.2, np.pi, 15)),  # values on vertical axis (weights)\n",
        "    color = 'red', marker = \"o\" # markers \n",
        "    )"
      ]
    },
    {
      "cell_type": "markdown",
      "metadata": {
        "id": "jxls43_YVeAB"
      },
      "source": [
        "## Routine for computing weights and denominator of index at a single point in time\n",
        "### --> here would be a good place to play with weighting logics"
      ]
    },
    {
      "cell_type": "code",
      "execution_count": 118,
      "metadata": {
        "id": "mPS9c3tXVeAB"
      },
      "outputs": [],
      "source": [
        "def getWeightsAndDenominator(\n",
        "    weighting:str ='linear', \n",
        "    capRankDict: dict = None, \n",
        "    numConstituents:int = None,\n",
        "    marketData:pd.DataFrame = None,\n",
        "    constituentsCapsCols: list = None,\n",
        "    tanhOffset: float = 0.2,\n",
        "    timeIndex: int = None,\n",
        "    totalIndexCap: float = None,\n",
        "    ):    \n",
        "    \n",
        "    if weighting == 'rank' or weighting == 'tanh':\n",
        "        maxRank = -1 \n",
        "        rankSum = 1\n",
        "        for j in capRankDict.values():\n",
        "            if j <= numConstituents:\n",
        "                rankSum+=j\n",
        "                if j>maxRank:\n",
        "                    maxRank=j\n",
        "        if rankSum == 0:\n",
        "            rankSum = 1\n",
        "\n",
        "\n",
        "    if weighting == 'rank':\n",
        "        denominator = 0.0\n",
        "        weights = np.linspace(1,numConstituents,numConstituents)\n",
        "        weights = maxRank + 1 - weights\n",
        "        for capCol in constituentsCapsCols:\n",
        "            denominator += weights[capRankDict[capCol.replace('_cap','_relCap')]-1]*marketData[capCol].iloc[timeIndex]\n",
        "\n",
        "    elif weighting == 'tanh':\n",
        "        weights = np.tanh(np.linspace(tanhOffset, np.pi, maxRank))\n",
        "        denominator = 0.0\n",
        "        for capCol in constituentsCapsCols:\n",
        "            denominator += weights[capRankDict[capCol.replace('_cap','_relCap')]-1]*marketData[capCol].iloc[timeIndex]\n",
        "    else:\n",
        "        weights = np.ones(numConstituents)\n",
        "        denominator = totalIndexCap\n",
        "    \n",
        "    return weights, denominator"
      ]
    },
    {
      "cell_type": "markdown",
      "metadata": {
        "id": "VLoMjD07VeAB"
      },
      "source": [
        "## Routine for assembling total returns weighted by market caps\n",
        "### --> here would be a good place to play with performance metrics"
      ]
    },
    {
      "cell_type": "code",
      "execution_count": 119,
      "metadata": {
        "id": "eJehWix_VeAB"
      },
      "outputs": [],
      "source": [
        "def marketCapWeightedReturns(\n",
        "    numConstituents:int = 15, \n",
        "    returnsSuffix:str='_returns_1', \n",
        "    weighting:str='linear',\n",
        "    tanhOffset:float = 0.2,\n",
        "    marketData:pd.DataFrame = None, \n",
        "    totalIndexCapCol:str = 'totalIndexCap',\n",
        "    marketCapWeightedReturnsCol:str= 'marketCapWeightedReturns'\n",
        "    ):\n",
        "\n",
        "    # list of columns with returns and relative market caps\n",
        "    returnsCols = [ col for col in list(marketData.columns) if returnsSuffix in col ]\n",
        "    relCapCols = [ col.replace(returnsSuffix,'_relCap') for col in returnsCols ]\n",
        "\n",
        "    # initializing lists for weightedReturns and total index cap\n",
        "    totalIndexCap = []\n",
        "    weightedReturns = []\n",
        "\n",
        "    # loop through all data/time points \n",
        "    for i in range(len(marketData)):\n",
        "\n",
        "        # ranking constituents via market capitalization\n",
        "        capRankDict = getRelCapRanks(coins=relCapCols, values=caps_and_prices_df[relCapCols].iloc[i])\n",
        "\n",
        "        # collect the returns of the constituents with the largest market capitalizations \n",
        "        constituentsReturnsCols = [ \n",
        "            constituent.replace('_relCap',returnsSuffix) for constituent in capRankDict.keys() if capRankDict[constituent]<=numConstituents\n",
        "            ]\n",
        "        # collect the column names of the constituents caps    \n",
        "        constituentsCapsCols = [ col.replace(returnsSuffix,'_cap') for col in constituentsReturnsCols]\n",
        "        # compute the total Index capitalization\n",
        "        totalIndexCap.append(marketData[constituentsCapsCols].iloc[i].sum())\n",
        "\n",
        "        # compute weighting parameters (weights and denominator)\n",
        "        weights,denominator = getWeightsAndDenominator(\n",
        "            weighting=weighting,\n",
        "            capRankDict=capRankDict,\n",
        "            numConstituents=numConstituents,\n",
        "            marketData=marketData,\n",
        "            constituentsCapsCols=constituentsCapsCols,\n",
        "            tanhOffset=tanhOffset,\n",
        "            timeIndex=i,\n",
        "            totalIndexCap=totalIndexCap[-1],\n",
        "        )\n",
        "\n",
        "        # compute index total weighted returns value\n",
        "        thisWeightedReturns = 0.0\n",
        "        for capCol,returnsCol in zip(constituentsCapsCols,constituentsReturnsCols):\n",
        "            if weighting == 'linear':\n",
        "                thisWeightedReturns += marketData[capCol].iloc[i] * marketData[returnsCol].iloc[i] / denominator\n",
        "\n",
        "\n",
        "            if weighting=='rank':\n",
        "                thisWeightedReturns += marketData[returnsCol].iloc[i]\\\n",
        "                                        * marketData[capCol].iloc[i]\\\n",
        "                                        * weights[capRankDict[capCol.replace('_cap','_relCap')]-1] / denominator\n",
        "\n",
        "            if weighting == 'tanh':\n",
        "\n",
        "                thisWeightedReturns += marketData[returnsCol].iloc[i]\\\n",
        "                                        * marketData[capCol].iloc[i]\\\n",
        "                                        * weights[capRankDict[capCol.replace('_cap','_relCap')]-1] / denominator\n",
        "\n",
        "        # grow a list of all weighted total returns\n",
        "        weightedReturns.append(thisWeightedReturns)\n",
        "    \n",
        "    # update market data dataframe with total weighted returns and index capitalization \n",
        "    marketData[totalIndexCapCol] = pd.Series(totalIndexCap)\n",
        "    marketData[marketCapWeightedReturnsCol] = pd.Series(weightedReturns)\n",
        "\n",
        "    return marketData"
      ]
    },
    {
      "cell_type": "markdown",
      "metadata": {
        "id": "QDeKpraQVeAC"
      },
      "source": [
        "### assembling the total returns columns for different types of weighting logics "
      ]
    },
    {
      "cell_type": "code",
      "execution_count": 160,
      "metadata": {
        "id": "zdlAo1yOVeAC"
      },
      "outputs": [],
      "source": [
        "returnsIndexDf = marketCapWeightedReturns(marketData=caps_and_prices_df)"
      ]
    },
    {
      "cell_type": "code",
      "execution_count": 161,
      "metadata": {
        "id": "Dd57s1FiVeAC"
      },
      "outputs": [],
      "source": [
        "returnsIndexDf = marketCapWeightedReturns(\n",
        "        marketData=caps_and_prices_df,\n",
        "        weighting='rank',\n",
        "        marketCapWeightedReturnsCol= 'marketCapRankWeightedReturns'\n",
        "    )"
      ]
    },
    {
      "cell_type": "code",
      "execution_count": 162,
      "metadata": {
        "id": "f_3xAfTVVeAC"
      },
      "outputs": [],
      "source": [
        "returnsIndexDf = marketCapWeightedReturns(\n",
        "        marketData=caps_and_prices_df,\n",
        "        weighting='tanh',\n",
        "        marketCapWeightedReturnsCol= 'marketTanhWeightedReturns'\n",
        "    )"
      ]
    },
    {
      "cell_type": "markdown",
      "metadata": {
        "id": "2sPM8p5tVeAD"
      },
      "source": [
        "## index computation from total returns column (starting value times the cumulative product of total returns)"
      ]
    },
    {
      "cell_type": "code",
      "execution_count": 163,
      "metadata": {
        "id": "ktDe9tCEVeAD"
      },
      "outputs": [],
      "source": [
        "def generateIndexFromReturns(startingValue:float=1.0,returnsCol:pd.Series=None):\n",
        "    return returnsCol.apply(lambda x:x+1).cumprod().multiply(startingValue)"
      ]
    },
    {
      "cell_type": "code",
      "execution_count": 164,
      "metadata": {
        "id": "yC9083wgVeAD"
      },
      "outputs": [],
      "source": [
        "returnsIndexDf['linearWeightingIndex'] = generateIndexFromReturns( startingValue=1000, returnsCol=returnsIndexDf.marketCapWeightedReturns)\n",
        "returnsIndexDf['rankWeightingIndex'] = generateIndexFromReturns( startingValue=1000, returnsCol=returnsIndexDf.marketCapRankWeightedReturns)\n",
        "returnsIndexDf['tanhWeightingIndex'] = generateIndexFromReturns( startingValue=1000, returnsCol=returnsIndexDf.marketTanhWeightedReturns)"
      ]
    },
    {
      "cell_type": "code",
      "execution_count": 165,
      "metadata": {
        "id": "zAMm5JVmVeAD"
      },
      "outputs": [],
      "source": [
        "returnsIndexDf.set_index('datetime',inplace=True)"
      ]
    },
    {
      "cell_type": "code",
      "execution_count": 168,
      "metadata": {
        "colab": {
          "base_uri": "https://localhost:8080/",
          "height": 894
        },
        "id": "qhb8PNQSVeAE",
        "outputId": "fca7ddeb-52bb-4d93-d593-c4a339a933ba"
      },
      "outputs": [
        {
          "output_type": "execute_result",
          "data": {
            "text/plain": [
              "<matplotlib.axes._subplots.AxesSubplot at 0x7f47e1ab2690>"
            ]
          },
          "metadata": {},
          "execution_count": 168
        },
        {
          "output_type": "display_data",
          "data": {
            "text/plain": [
              "<Figure size 1440x1080 with 1 Axes>"
            ],
            "image/png": "[encoded data removed]"
          },
          "metadata": {
            "needs_background": "light"
          }
        }
      ],
      "source": [
        "returnsIndexDf[['linearWeightingIndex','tanhWeightingIndex','rankWeightingIndex']].plot(logy=True,figsize=(20,15))"
      ]
    },
    {
      "cell_type": "markdown",
      "metadata": {
        "id": "6ghI8AAiVeAE"
      },
      "source": [
        "## some visualizations: comparison of index capitalization to bitcoin"
      ]
    },
    {
      "cell_type": "code",
      "execution_count": 167,
      "metadata": {
        "colab": {
          "base_uri": "https://localhost:8080/",
          "height": 311
        },
        "id": "okcXFT1MVeAE",
        "outputId": "65e240e9-3a33-4ad4-edf9-b0f30d100099"
      },
      "outputs": [
        {
          "output_type": "error",
          "ename": "KeyError",
          "evalue": "ignored",
          "traceback": [
            "\u001b[0;31m---------------------------------------------------------------------------\u001b[0m",
            "\u001b[0;31mKeyError\u001b[0m                                  Traceback (most recent call last)",
            "\u001b[0;32m<ipython-input-167-79a16c85877b>\u001b[0m in \u001b[0;36m<module>\u001b[0;34m()\u001b[0m\n\u001b[0;32m----> 1\u001b[0;31m \u001b[0mreturnsIndexDf\u001b[0m\u001b[0;34m[\u001b[0m\u001b[0;34m[\u001b[0m\u001b[0;34m'totalIndexCap'\u001b[0m\u001b[0;34m,\u001b[0m\u001b[0;34m'bitcoin_cap'\u001b[0m\u001b[0;34m]\u001b[0m\u001b[0;34m]\u001b[0m\u001b[0;34m.\u001b[0m\u001b[0mplot\u001b[0m\u001b[0;34m(\u001b[0m\u001b[0mlogy\u001b[0m\u001b[0;34m=\u001b[0m\u001b[0;32mTrue\u001b[0m\u001b[0;34m,\u001b[0m\u001b[0mfigsize\u001b[0m\u001b[0;34m=\u001b[0m\u001b[0;34m(\u001b[0m\u001b[0;36m20\u001b[0m\u001b[0;34m,\u001b[0m\u001b[0;36m15\u001b[0m\u001b[0;34m)\u001b[0m\u001b[0;34m)\u001b[0m\u001b[0;34m\u001b[0m\u001b[0;34m\u001b[0m\u001b[0m\n\u001b[0m",
            "\u001b[0;32m/usr/local/lib/python3.7/dist-packages/pandas/core/frame.py\u001b[0m in \u001b[0;36m__getitem__\u001b[0;34m(self, key)\u001b[0m\n\u001b[1;32m   3462\u001b[0m             \u001b[0;32mif\u001b[0m \u001b[0mis_iterator\u001b[0m\u001b[0;34m(\u001b[0m\u001b[0mkey\u001b[0m\u001b[0;34m)\u001b[0m\u001b[0;34m:\u001b[0m\u001b[0;34m\u001b[0m\u001b[0;34m\u001b[0m\u001b[0m\n\u001b[1;32m   3463\u001b[0m                 \u001b[0mkey\u001b[0m \u001b[0;34m=\u001b[0m \u001b[0mlist\u001b[0m\u001b[0;34m(\u001b[0m\u001b[0mkey\u001b[0m\u001b[0;34m)\u001b[0m\u001b[0;34m\u001b[0m\u001b[0;34m\u001b[0m\u001b[0m\n\u001b[0;32m-> 3464\u001b[0;31m             \u001b[0mindexer\u001b[0m \u001b[0;34m=\u001b[0m \u001b[0mself\u001b[0m\u001b[0;34m.\u001b[0m\u001b[0mloc\u001b[0m\u001b[0;34m.\u001b[0m\u001b[0m_get_listlike_indexer\u001b[0m\u001b[0;34m(\u001b[0m\u001b[0mkey\u001b[0m\u001b[0;34m,\u001b[0m \u001b[0maxis\u001b[0m\u001b[0;34m=\u001b[0m\u001b[0;36m1\u001b[0m\u001b[0;34m)\u001b[0m\u001b[0;34m[\u001b[0m\u001b[0;36m1\u001b[0m\u001b[0;34m]\u001b[0m\u001b[0;34m\u001b[0m\u001b[0;34m\u001b[0m\u001b[0m\n\u001b[0m\u001b[1;32m   3465\u001b[0m \u001b[0;34m\u001b[0m\u001b[0m\n\u001b[1;32m   3466\u001b[0m         \u001b[0;31m# take() does not accept boolean indexers\u001b[0m\u001b[0;34m\u001b[0m\u001b[0;34m\u001b[0m\u001b[0;34m\u001b[0m\u001b[0m\n",
            "\u001b[0;32m/usr/local/lib/python3.7/dist-packages/pandas/core/indexing.py\u001b[0m in \u001b[0;36m_get_listlike_indexer\u001b[0;34m(self, key, axis)\u001b[0m\n\u001b[1;32m   1312\u001b[0m             \u001b[0mkeyarr\u001b[0m\u001b[0;34m,\u001b[0m \u001b[0mindexer\u001b[0m\u001b[0;34m,\u001b[0m \u001b[0mnew_indexer\u001b[0m \u001b[0;34m=\u001b[0m \u001b[0max\u001b[0m\u001b[0;34m.\u001b[0m\u001b[0m_reindex_non_unique\u001b[0m\u001b[0;34m(\u001b[0m\u001b[0mkeyarr\u001b[0m\u001b[0;34m)\u001b[0m\u001b[0;34m\u001b[0m\u001b[0;34m\u001b[0m\u001b[0m\n\u001b[1;32m   1313\u001b[0m \u001b[0;34m\u001b[0m\u001b[0m\n\u001b[0;32m-> 1314\u001b[0;31m         \u001b[0mself\u001b[0m\u001b[0;34m.\u001b[0m\u001b[0m_validate_read_indexer\u001b[0m\u001b[0;34m(\u001b[0m\u001b[0mkeyarr\u001b[0m\u001b[0;34m,\u001b[0m \u001b[0mindexer\u001b[0m\u001b[0;34m,\u001b[0m \u001b[0maxis\u001b[0m\u001b[0;34m)\u001b[0m\u001b[0;34m\u001b[0m\u001b[0;34m\u001b[0m\u001b[0m\n\u001b[0m\u001b[1;32m   1315\u001b[0m \u001b[0;34m\u001b[0m\u001b[0m\n\u001b[1;32m   1316\u001b[0m         if needs_i8_conversion(ax.dtype) or isinstance(\n",
            "\u001b[0;32m/usr/local/lib/python3.7/dist-packages/pandas/core/indexing.py\u001b[0m in \u001b[0;36m_validate_read_indexer\u001b[0;34m(self, key, indexer, axis)\u001b[0m\n\u001b[1;32m   1375\u001b[0m \u001b[0;34m\u001b[0m\u001b[0m\n\u001b[1;32m   1376\u001b[0m             \u001b[0mnot_found\u001b[0m \u001b[0;34m=\u001b[0m \u001b[0mlist\u001b[0m\u001b[0;34m(\u001b[0m\u001b[0mensure_index\u001b[0m\u001b[0;34m(\u001b[0m\u001b[0mkey\u001b[0m\u001b[0;34m)\u001b[0m\u001b[0;34m[\u001b[0m\u001b[0mmissing_mask\u001b[0m\u001b[0;34m.\u001b[0m\u001b[0mnonzero\u001b[0m\u001b[0;34m(\u001b[0m\u001b[0;34m)\u001b[0m\u001b[0;34m[\u001b[0m\u001b[0;36m0\u001b[0m\u001b[0;34m]\u001b[0m\u001b[0;34m]\u001b[0m\u001b[0;34m.\u001b[0m\u001b[0munique\u001b[0m\u001b[0;34m(\u001b[0m\u001b[0;34m)\u001b[0m\u001b[0;34m)\u001b[0m\u001b[0;34m\u001b[0m\u001b[0;34m\u001b[0m\u001b[0m\n\u001b[0;32m-> 1377\u001b[0;31m             \u001b[0;32mraise\u001b[0m \u001b[0mKeyError\u001b[0m\u001b[0;34m(\u001b[0m\u001b[0;34mf\"{not_found} not in index\"\u001b[0m\u001b[0;34m)\u001b[0m\u001b[0;34m\u001b[0m\u001b[0;34m\u001b[0m\u001b[0m\n\u001b[0m\u001b[1;32m   1378\u001b[0m \u001b[0;34m\u001b[0m\u001b[0m\n\u001b[1;32m   1379\u001b[0m \u001b[0;34m\u001b[0m\u001b[0m\n",
            "\u001b[0;31mKeyError\u001b[0m: \"['bitcoin_cap'] not in index\""
          ]
        }
      ],
      "source": [
        "returnsIndexDf[['totalIndexCap','bitcoin_cap']].plot(logy=True,figsize=(20,15))"
      ]
    },
    {
      "cell_type": "code",
      "execution_count": null,
      "metadata": {
        "id": "WMb4WsVuVeAE"
      },
      "outputs": [],
      "source": [
        ""
      ]
    }
  ],
  "metadata": {
    "kernelspec": {
      "display_name": "Python 3.9.13 ('venv': venv)",
      "language": "python",
      "name": "python3"
    },
    "language_info": {
      "codemirror_mode": {
        "name": "ipython",
        "version": 3
      },
      "file_extension": ".py",
      "mimetype": "text/x-python",
      "name": "python",
      "nbconvert_exporter": "python",
      "pygments_lexer": "ipython3",
      "version": "3.9.13"
    },
    "orig_nbformat": 4,
    "vscode": {
      "interpreter": {
        "hash": "635550631004eb18e4e05605ede005d1c256f90bacf7475cbc9c49bb6fb30513"
      }
    },
    "colab": {
      "name": "Kopie von crypto_index.ipynb",
      "provenance": [],
      "collapsed_sections": [],
      "include_colab_link": true
    }
  },
  "nbformat": 4,
  "nbformat_minor": 0
}